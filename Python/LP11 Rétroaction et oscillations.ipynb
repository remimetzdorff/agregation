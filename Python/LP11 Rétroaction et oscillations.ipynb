{
 "cells": [
  {
   "cell_type": "code",
   "execution_count": 1,
   "metadata": {},
   "outputs": [
    {
     "name": "stdout",
     "output_type": "stream",
     "text": [
      "Populating the interactive namespace from numpy and matplotlib\n"
     ]
    }
   ],
   "source": [
    "%pylab qt\n",
    "%matplotlib inline\n",
    "\n",
    "import scipy.constants as cst\n",
    "\n",
    "def mysavefig(name):\n",
    "    plt.tight_layout()\n",
    "    plt.savefig(name, bbox_inches=\"tight\", dpi=200)"
   ]
  },
  {
   "cell_type": "code",
   "execution_count": 9,
   "metadata": {},
   "outputs": [
    {
     "data": {
      "text/plain": [
       "[<matplotlib.lines.Line2D at 0xac69828>]"
      ]
     },
     "execution_count": 9,
     "metadata": {},
     "output_type": "execute_result"
    },
    {
     "data": {
      "image/png": "[encoded data removed]",
      "text/plain": [
       "<Figure size 432x288 with 1 Axes>"
      ]
     },
     "metadata": {
      "needs_background": "light"
     },
     "output_type": "display_data"
    }
   ],
   "source": [
    "def ali(omega, mu0=10**5, tau=0.1/2/np.pi):\n",
    "    return mu0 / (1 + 1j*omega*tau)\n",
    "\n",
    "def beta(omega, gain):\n",
    "    return np.ones(len(omega)) / gain\n",
    "\n",
    "def ampnoninv(omega, gain, mu0=10**5, tau=0.1/2/np.pi):\n",
    "    A = ali(omega, mu0=mu0, tau=tau)\n",
    "    B = beta(omega, gain)\n",
    "    return A / (1 + A*B)\n",
    "\n",
    "def gdb(h):\n",
    "    return 20*np.log(np.abs(h))\n",
    "\n",
    "omega = np.logspace(0,9, 1001)*2*np.pi\n",
    "h     = ampnoninv(omega, 1)\n",
    "ao    = ali(omega)\n",
    "\n",
    "plt.semilogx(omega/2/np.pi, gdb(ao))\n",
    "plt.semilogx(omega/2/np.pi, gdb(h))"
   ]
  },
  {
   "cell_type": "code",
   "execution_count": null,
   "metadata": {},
   "outputs": [],
   "source": []
  }
 ],
 "metadata": {
  "kernelspec": {
   "display_name": "Python 3",
   "language": "python",
   "name": "python3"
  },
  "language_info": {
   "codemirror_mode": {
    "name": "ipython",
    "version": 3
   },
   "file_extension": ".py",
   "mimetype": "text/x-python",
   "name": "python",
   "nbconvert_exporter": "python",
   "pygments_lexer": "ipython3",
   "version": "3.7.3"
  }
 },
 "nbformat": 4,
 "nbformat_minor": 2
}
