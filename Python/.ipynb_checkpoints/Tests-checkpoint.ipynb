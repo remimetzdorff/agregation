{
 "cells": [
  {
   "cell_type": "code",
   "execution_count": 5,
   "metadata": {},
   "outputs": [
    {
     "name": "stdout",
     "output_type": "stream",
     "text": [
      "Populating the interactive namespace from numpy and matplotlib\n",
      "No manual guess_params\n",
      "try auto guess\n",
      "[0.0, 3.2104520085556626e-07, 500001.4462047377]\n",
      "[0.00000000e+00 3.21045201e-07 5.00001446e+05]\n"
     ]
    },
    {
     "name": "stderr",
     "output_type": "stream",
     "text": [
      "C:\\ProgramData\\Anaconda3\\lib\\site-packages\\scipy\\optimize\\minpack.py:787: OptimizeWarning: Covariance of the parameters could not be estimated\n",
      "  category=OptimizeWarning)\n"
     ]
    },
    {
     "data": {
      "image/png": "[encoded data removed]",
      "text/plain": [
       "<Figure size 432x288 with 1 Axes>"
      ]
     },
     "metadata": {
      "needs_background": "light"
     },
     "output_type": "display_data"
    }
   ],
   "source": [
    "%pylab qt\n",
    "%matplotlib inline\n",
    "import fitting\n",
    "import pandas\n",
    "\n",
    "x = np.linspace(0, 2*np.pi, 1001)\n",
    "y = np.exp(0.111*x)+500000\n",
    "\n",
    "plt.plot(x, y, \"o\")\n",
    "\n",
    "func = fitting.Fit()\n",
    "fit_params = func.fit(func.exponential_offset, x, y)\n",
    "plt.plot(x, func.exponential_offset(x, *fit_params))\n",
    "\n",
    "print(fit_params)"
   ]
  },
  {
   "cell_type": "code",
   "execution_count": 1,
   "metadata": {},
   "outputs": [
    {
     "name": "stdout",
     "output_type": "stream",
     "text": [
      "Populating the interactive namespace from numpy and matplotlib\n"
     ]
    }
   ],
   "source": [
    "%pylab qt\n",
    "%matplotlib inline\n",
    "import pandas\n",
    "import fit_functions as ff\n",
    "func = ff.FitFunction()"
   ]
  },
  {
   "cell_type": "code",
   "execution_count": 5,
   "metadata": {},
   "outputs": [
    {
     "name": "stdout",
     "output_type": "stream",
     "text": [
      "no guess function for this function\n"
     ]
    },
    {
     "data": {
      "text/plain": [
       "2.7295925140762165"
      ]
     },
     "execution_count": 5,
     "metadata": {},
     "output_type": "execute_result"
    }
   ],
   "source": [
    "ff.guess_params(\"sin\", [0,1], [0,1])\n",
    "\n",
    "\n",
    "func.sin(1,2,3,4,5)"
   ]
  },
  {
   "cell_type": "code",
   "execution_count": 5,
   "metadata": {},
   "outputs": [
    {
     "ename": "TypeError",
     "evalue": "getattr expected at least 2 arguments, got 1",
     "output_type": "error",
     "traceback": [
      "\u001b[1;31m---------------------------------------------------------------------------\u001b[0m",
      "\u001b[1;31mTypeError\u001b[0m                                 Traceback (most recent call last)",
      "\u001b[1;32m<ipython-input-5-01c1f312f4b1>\u001b[0m in \u001b[0;36m<module>\u001b[1;34m\u001b[0m\n\u001b[0;32m      2\u001b[0m     \u001b[1;32mreturn\u001b[0m \u001b[1;36m1\u001b[0m\u001b[1;33m\u001b[0m\u001b[1;33m\u001b[0m\u001b[0m\n\u001b[0;32m      3\u001b[0m \u001b[1;33m\u001b[0m\u001b[0m\n\u001b[1;32m----> 4\u001b[1;33m \u001b[0mgetattr\u001b[0m\u001b[1;33m(\u001b[0m\u001b[1;34m\"test\"\u001b[0m\u001b[1;33m)\u001b[0m\u001b[1;33m\u001b[0m\u001b[1;33m\u001b[0m\u001b[0m\n\u001b[0m",
      "\u001b[1;31mTypeError\u001b[0m: getattr expected at least 2 arguments, got 1"
     ]
    }
   ],
   "source": [
    "def test(x):\n",
    "    return 1\n",
    "\n",
    "getattr(\"test\")"
   ]
  },
  {
   "cell_type": "code",
   "execution_count": 43,
   "metadata": {},
   "outputs": [],
   "source": [
    "import pandas\n",
    "import scipy.optimize\n",
    "import numpy\n",
    "import numpy as np\n",
    "import collections\n",
    "import math\n",
    "from scipy.special import erf\n",
    "from scipy import signal\n",
    "import scipy.special\n",
    "from matplotlib import pyplot\n",
    "\n",
    "class FitFunctions(object):\n",
    "\n",
    "    def sin(self, f, phi, scale, y0):\n",
    "        x = self.x()\n",
    "        return y0 + scale*numpy.sin(2*numpy.pi*x*f + phi) \n",
    "    \n",
    "    def _guesssin(self):\n",
    "        length = len(self.data)\n",
    "        fft = np.fft.fft(self.data)/length\n",
    "        d=np.abs(self.data.index[-1]-self.data.index[0])/length\n",
    "        freq = np.fft.fftfreq(length,d=d)\n",
    "        y0 = fft[0]\n",
    "        fft[0]=0\n",
    "        maxpos = (abs(fft)).argmax()\n",
    "        maxfreq = freq[maxpos]\n",
    "        #if maxpos%2==1:\n",
    "        phase = np.angle(fft[maxpos])+np.pi/2\n",
    "        fit_params = {'f': abs(maxfreq), 'phi':phase, 'scale': 2*abs(fft[maxpos]), 'y0': abs(y0)}\n",
    "        return fit_params\n",
    "    \n",
    "    def _postsin(self):\n",
    "        self.post_params[\"period\"] = 1/self.params[\"f\"]\n",
    "        self.post_params[\"phi_deg\"] = (180*self.params[\"phi\"]/np.pi)%360\n",
    "        return self.post_params\n",
    "\n",
    "class Fit(FitFunctions):\n",
    "    def __init__(self, data, func, fixed_params={}, manualguess_params={},\n",
    "                 autoguessfunction='' , verbosemode=False, maxiter=10000, \n",
    "                 errfn='error_vector', autofit=True):\n",
    "        self._x_npy = None\n",
    "        self._y_npy = None\n",
    "        self.autofit = autofit\n",
    "        self.data = data\n",
    "        self.sqerror = float('nan')\n",
    "        self.verbosemode = verbosemode\n",
    "        self.stepcount = 0\n",
    "        self.maxiter = maxiter\n",
    "        self.fitfunctions = FitFunctions()\n",
    "        self.commentstring = ''\n",
    "        self.pre_fixed_params = collections.OrderedDict(fixed_params)\n",
    "        self.fixed_params = collections.OrderedDict()\n",
    "        self.manualguess_params = collections.OrderedDict(manualguess_params)\n",
    "        self.diag = None\n",
    "        \n",
    "        # dynamically choose the fit function according to the passed func string\n",
    "        self.func = func\n",
    "        self.fn = self.__getattribute__(self.func)\n",
    "        \n",
    "        # define the error function to be optimised\n",
    "        self.errfn = errfn\n",
    "        self.fn_error = self.__getattribute__(self.errfn)\n",
    "        \n",
    "        # choose automatic guess function for starting parameter estimation\n",
    "        self.autoguessfunction = autoguessfunction\n",
    "        if self.autoguessfunction =='':\n",
    "            self.fn_guess = self.__getattribute__('_guess'+self.func)\n",
    "        else:\n",
    "            self.fn_guess = self.__getattribute__(self.autoguessfunction)\n",
    "        \n",
    "        if hasattr(self,'_post'+self.func):\n",
    "            self.fn_post = self.__getattribute__('_post'+self.func)\n",
    "        else:\n",
    "            self.fn_post = None\n",
    "        \n",
    "        # guess unfixed parameters\n",
    "        self.autoguess_params = self.fn_guess()\n",
    "        \n",
    "        # take all parameters passed during the function call as fixed, \n",
    "        # and assume that others have to be guessed\n",
    "        # fixed_params are invariably fixed\n",
    "        # manualguess_params have been guessed manually\n",
    "        # the remaining autoguess_params were guessed by the guess function\n",
    "        self.fit_params = collections.OrderedDict()\n",
    "        \n",
    "        for key in self.fn.__code__.co_varnames[1:self.fn.__code__.co_argcount]:\n",
    "            if key in self.pre_fixed_params:\n",
    "                self.fixed_params[key] = self.pre_fixed_params[key]\n",
    "            elif key in self.manualguess_params:\n",
    "                self.fit_params[key] = self.manualguess_params[key]\n",
    "            else: \n",
    "                self.fit_params[key] = self.autoguess_params[key]\n",
    "\n",
    "        self.comment(\"Square sum of data: \" + str((self.data**2).sum()))\n",
    "        self.comment(\"Calling fit function with following guesses: \")\n",
    "        self.comment(str(dict(self.getparams())))\n",
    "\n",
    "    def error_vector(self, args):\n",
    "        # unfold the list of parameters back into the dictionary \n",
    "        for index, key in enumerate(self.fit_params):\n",
    "            self.fit_params[key] = float(list(args[0])[index])\n",
    "        \n",
    "        # calculate the square error\n",
    "        self.sqerror_vector = self.fn(**self.getparams())-self.data.values\n",
    "        \n",
    "        if self.sqerror_vector.dtype==np.dtype('complex128'):\n",
    "            self.sqerror_vector = np.abs(self.sqerror_vector)\n",
    "        return self.sqerror_vector\n",
    "    \n",
    "    # define function for fit parameter optimization, usually simple leastsquares method\n",
    "    def squareerror_old(self, args):\n",
    "        # unfold the list of parameters back into the dictionary \n",
    "        for index, key in enumerate(self.fit_params):\n",
    "            self.fit_params[key] = float(args[index])\n",
    "        \n",
    "        x_npy_safe = self.x().copy()\n",
    "        self._x_npy = np.array(self.data.index,np.float64)\n",
    "        # calculate the square error\n",
    "        self.sqerror = float(((np.abs(self.fn(**self.getparams())-self.data.values))**2).mean())\n",
    "        self._x_npy = x_npy_safe\n",
    "        return self.sqerror\n",
    "\n",
    "    def squareerror_dbweighted(self, kwds):\n",
    "        # unfold the list of parameters back into the dictionary \n",
    "        for index, key in enumerate(self.fit_params):\n",
    "            self.fit_params[key] = float(kwds[index])\n",
    "        # calculate the square error\n",
    "        sqtable = abs(self.fn(**self.getparams())-self.data.values)/10.0\n",
    "        wsqtable = 10**sqtable\n",
    "        #wsqtable = sqtable * 10**(self.data.values/10.0)\n",
    "        self.sqerror = float(wsqtable.mean())\n",
    "        return self.sqerror\n",
    "        \n",
    "    def getparams(self):\n",
    "        params = self.fit_params.copy()\n",
    "        params.update(self.fixed_params)\n",
    "        return params\n",
    "\n",
    "    def getpostparams(self):\n",
    "        self.post_params = self.getparams()#dict()\n",
    "        self.params = self.getparams()\n",
    "        if self.fn_post is not None:\n",
    "            self.fn_post()\n",
    "        else:\n",
    "            pass\n",
    "        return self.post_params\n",
    "    \n",
    "    def getallparams(self):\n",
    "        params = self.getparams()\n",
    "        params.update(self.getpostparams())\n",
    "        return params\n",
    "    \n",
    "#get the square error for actual parameters\n",
    "    def getsqerror(self):\n",
    "        return self.squareerror_old(self.fit_params.values())\n",
    "    \n",
    "    def comment(self, string):\n",
    "        if self.verbosemode is True:\n",
    "            print(string)\n",
    "        self.commentstring += str(string) + \"\\r\\n\"\n",
    "\n",
    "    def x(self):\n",
    "        if self._x_npy is None:\n",
    "            self._x_npy = numpy.array(self.data.index,dtype=float)\n",
    "        return  self._x_npy\n",
    "    \n",
    "    def y(self):\n",
    "        if self._y_npy is None:\n",
    "            if self.data.values.dtype == complex:\n",
    "                self._y_npy = numpy.array(self.data.values,dtype=complex)\n",
    "            else:\n",
    "                self._y_npy = numpy.array(self.data.values,dtype=float)\n",
    "        return self._y_npy\n",
    "    \n",
    "    \n",
    "    def fit(self):\n",
    "        print(self.fit_params.values())\n",
    "        res = scipy.optimize.leastsq(func=self.fn_error,\n",
    "                                     x0=self.fit_params.values(),\n",
    "                                     xtol=1e-15,#1e-4,\n",
    "                                     ftol=1e-15,#1e-4,\n",
    "                                     gtol=0.0,#1e-15,#1e-4\n",
    "                                     maxfev=self.maxiter,\n",
    "                                     diag=self.diag,\n",
    "                                     full_output=self.verbosemode,\n",
    "                                     epsfcn=0.0 \n",
    "                                     )\n",
    "        self.getpostparams()\n",
    "        self.sqerror = self.getsqerror() \n",
    "        self.comment(\"Fit completed with sqerror = \" + str(self.sqerror))\n",
    "        self.comment(\"Obtained parameter values: \")\n",
    "        self.comment(dict(self.getparams()))\n",
    "        # evaluate the performed fit in fitdata\n",
    "        self.fitdata = pandas.Series(data=self.fn(**self.getparams()), index=self.x(),\n",
    "                            name='fitfunction: '+ self.func )\n",
    "        return res"
   ]
  },
  {
   "cell_type": "code",
   "execution_count": 44,
   "metadata": {},
   "outputs": [
    {
     "name": "stdout",
     "output_type": "stream",
     "text": [
      "Populating the interactive namespace from numpy and matplotlib\n",
      "odict_values([0.15915494309189535, 0.003138454199390406, 0.999498602480555, 5.5455695535722105e-19])\n",
      "0\n",
      "f\n",
      "OrderedDict([('f', 0.15915494309189535), ('phi', 0.003138454199390406), ('scale', 0.999498602480555), ('y0', 5.5455695535722105e-19)])\n",
      "[odict_values([0.15915494309189535, 0.003138454199390406, 0.999498602480555, 5.5455695535722105e-19])]\n",
      "0.15915494309189535\n",
      "args :  [0.15915494309189535, 0.003138454199390406, 0.999498602480555, 5.5455695535722105e-19]\n",
      "1\n",
      "phi\n",
      "OrderedDict([('f', 0.15915494309189535), ('phi', 0.003138454199390406), ('scale', 0.999498602480555), ('y0', 5.5455695535722105e-19)])\n",
      "[odict_values([0.15915494309189535, 0.003138454199390406, 0.999498602480555, 5.5455695535722105e-19])]\n",
      "0.003138454199390406\n",
      "args :  [0.15915494309189535, 0.003138454199390406, 0.999498602480555, 5.5455695535722105e-19]\n",
      "2\n",
      "scale\n",
      "OrderedDict([('f', 0.15915494309189535), ('phi', 0.003138454199390406), ('scale', 0.999498602480555), ('y0', 5.5455695535722105e-19)])\n",
      "[odict_values([0.15915494309189535, 0.003138454199390406, 0.999498602480555, 5.5455695535722105e-19])]\n",
      "0.999498602480555\n",
      "args :  [0.15915494309189535, 0.003138454199390406, 0.999498602480555, 5.5455695535722105e-19]\n",
      "3\n",
      "y0\n",
      "OrderedDict([('f', 0.15915494309189535), ('phi', 0.003138454199390406), ('scale', 0.999498602480555), ('y0', 5.5455695535722105e-19)])\n",
      "[odict_values([0.15915494309189535, 0.003138454199390406, 0.999498602480555, 5.5455695535722105e-19])]\n",
      "5.5455695535722105e-19\n",
      "args :  [0.15915494309189535, 0.003138454199390406, 0.999498602480555, 5.5455695535722105e-19]\n"
     ]
    },
    {
     "ename": "TypeError",
     "evalue": "Cannot cast array data from dtype('O') to dtype('float64') according to the rule 'safe'",
     "output_type": "error",
     "traceback": [
      "\u001b[1;31m---------------------------------------------------------------------------\u001b[0m",
      "\u001b[1;31mTypeError\u001b[0m                                 Traceback (most recent call last)",
      "\u001b[1;32m<ipython-input-44-f1d6d55c63d4>\u001b[0m in \u001b[0;36m<module>\u001b[1;34m\u001b[0m\n\u001b[0;32m     11\u001b[0m \u001b[1;33m\u001b[0m\u001b[0m\n\u001b[0;32m     12\u001b[0m \u001b[0mfit\u001b[0m \u001b[1;33m=\u001b[0m \u001b[0mFit\u001b[0m\u001b[1;33m(\u001b[0m\u001b[0mdata\u001b[0m\u001b[1;33m,\u001b[0m \u001b[1;34m\"sin\"\u001b[0m\u001b[1;33m)\u001b[0m\u001b[1;33m\u001b[0m\u001b[1;33m\u001b[0m\u001b[0m\n\u001b[1;32m---> 13\u001b[1;33m \u001b[0mprint\u001b[0m\u001b[1;33m(\u001b[0m\u001b[0mfit\u001b[0m\u001b[1;33m.\u001b[0m\u001b[0mfit\u001b[0m\u001b[1;33m(\u001b[0m\u001b[1;33m)\u001b[0m\u001b[1;33m)\u001b[0m\u001b[1;33m\u001b[0m\u001b[1;33m\u001b[0m\u001b[0m\n\u001b[0m",
      "\u001b[1;32m<ipython-input-43-b2188c3f759b>\u001b[0m in \u001b[0;36mfit\u001b[1;34m(self)\u001b[0m\n\u001b[0;32m    190\u001b[0m                                      \u001b[0mdiag\u001b[0m\u001b[1;33m=\u001b[0m\u001b[0mself\u001b[0m\u001b[1;33m.\u001b[0m\u001b[0mdiag\u001b[0m\u001b[1;33m,\u001b[0m\u001b[1;33m\u001b[0m\u001b[1;33m\u001b[0m\u001b[0m\n\u001b[0;32m    191\u001b[0m                                      \u001b[0mfull_output\u001b[0m\u001b[1;33m=\u001b[0m\u001b[0mself\u001b[0m\u001b[1;33m.\u001b[0m\u001b[0mverbosemode\u001b[0m\u001b[1;33m,\u001b[0m\u001b[1;33m\u001b[0m\u001b[1;33m\u001b[0m\u001b[0m\n\u001b[1;32m--> 192\u001b[1;33m                                      \u001b[0mepsfcn\u001b[0m\u001b[1;33m=\u001b[0m\u001b[1;36m0.0\u001b[0m\u001b[1;33m\u001b[0m\u001b[1;33m\u001b[0m\u001b[0m\n\u001b[0m\u001b[0;32m    193\u001b[0m                                      )\n\u001b[0;32m    194\u001b[0m         \u001b[0mself\u001b[0m\u001b[1;33m.\u001b[0m\u001b[0mgetpostparams\u001b[0m\u001b[1;33m(\u001b[0m\u001b[1;33m)\u001b[0m\u001b[1;33m\u001b[0m\u001b[1;33m\u001b[0m\u001b[0m\n",
      "\u001b[1;32mC:\\ProgramData\\Anaconda3\\lib\\site-packages\\scipy\\optimize\\minpack.py\u001b[0m in \u001b[0;36mleastsq\u001b[1;34m(func, x0, args, Dfun, full_output, col_deriv, ftol, xtol, gtol, maxfev, epsfcn, factor, diag)\u001b[0m\n\u001b[0;32m    392\u001b[0m             \u001b[0mmaxfev\u001b[0m \u001b[1;33m=\u001b[0m \u001b[1;36m200\u001b[0m\u001b[1;33m*\u001b[0m\u001b[1;33m(\u001b[0m\u001b[0mn\u001b[0m \u001b[1;33m+\u001b[0m \u001b[1;36m1\u001b[0m\u001b[1;33m)\u001b[0m\u001b[1;33m\u001b[0m\u001b[1;33m\u001b[0m\u001b[0m\n\u001b[0;32m    393\u001b[0m         retval = _minpack._lmdif(func, x0, args, full_output, ftol, xtol,\n\u001b[1;32m--> 394\u001b[1;33m                                  gtol, maxfev, epsfcn, factor, diag)\n\u001b[0m\u001b[0;32m    395\u001b[0m     \u001b[1;32melse\u001b[0m\u001b[1;33m:\u001b[0m\u001b[1;33m\u001b[0m\u001b[1;33m\u001b[0m\u001b[0m\n\u001b[0;32m    396\u001b[0m         \u001b[1;32mif\u001b[0m \u001b[0mcol_deriv\u001b[0m\u001b[1;33m:\u001b[0m\u001b[1;33m\u001b[0m\u001b[1;33m\u001b[0m\u001b[0m\n",
      "\u001b[1;31mTypeError\u001b[0m: Cannot cast array data from dtype('O') to dtype('float64') according to the rule 'safe'"
     ]
    },
    {
     "data": {
      "image/png": "[encoded data removed]",
      "text/plain": [
       "<Figure size 432x288 with 1 Axes>"
      ]
     },
     "metadata": {
      "needs_background": "light"
     },
     "output_type": "display_data"
    }
   ],
   "source": [
    "%pylab qt\n",
    "%matplotlib inline\n",
    "import pandas\n",
    "\n",
    "x = np.linspace(0, 2*np.pi, 1001)\n",
    "y = np.sin(x)\n",
    "\n",
    "data = pandas.Series(y, index=x)\n",
    "\n",
    "plt.plot(x, y, \"o\")\n",
    "\n",
    "fit = Fit(data, \"sin\")\n",
    "print(fit.fit())"
   ]
  },
  {
   "cell_type": "code",
   "execution_count": null,
   "metadata": {},
   "outputs": [],
   "source": []
  }
 ],
 "metadata": {
  "kernelspec": {
   "display_name": "Python 3",
   "language": "python",
   "name": "python3"
  },
  "language_info": {
   "codemirror_mode": {
    "name": "ipython",
    "version": 3
   },
   "file_extension": ".py",
   "mimetype": "text/x-python",
   "name": "python",
   "nbconvert_exporter": "python",
   "pygments_lexer": "ipython3",
   "version": "3.7.3"
  }
 },
 "nbformat": 4,
 "nbformat_minor": 2
}
