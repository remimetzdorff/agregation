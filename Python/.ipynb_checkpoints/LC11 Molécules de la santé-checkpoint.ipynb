{
 "cells": [
  {
   "cell_type": "markdown",
   "metadata": {},
   "source": [
    "# LC11 Molécules de la santé"
   ]
  },
  {
   "cell_type": "code",
   "execution_count": 25,
   "metadata": {},
   "outputs": [
    {
     "name": "stdout",
     "output_type": "stream",
     "text": [
      "Populating the interactive namespace from numpy and matplotlib\n"
     ]
    }
   ],
   "source": [
    "%pylab qt\n",
    "%matplotlib inline"
   ]
  },
  {
   "cell_type": "code",
   "execution_count": 26,
   "metadata": {},
   "outputs": [
    {
     "name": "stdout",
     "output_type": "stream",
     "text": [
      "0.04232266802099204\n",
      "3.75e-05\n",
      "4.2322668020992044e-05\n"
     ]
    },
    {
     "data": {
      "text/plain": [
       "0.7867549668874173"
      ]
     },
     "execution_count": 26,
     "metadata": {},
     "output_type": "execute_result"
    }
   ],
   "source": [
    "##### Povidone iodée C6H9I2NO\n",
    "\n",
    "M = 2362.8\n",
    "m = 100.\n",
    "\n",
    "c = m/M # mol/L\n",
    "\n",
    "print(c)\n",
    "\n",
    "n = 5e-3*15e-3/2\n",
    "\n",
    "print(n)\n",
    "print(c/10*10e-3)\n",
    "27.88-21.94\n",
    "5.94/7.55"
   ]
  },
  {
   "cell_type": "markdown",
   "metadata": {},
   "source": [
    "## Dosage du diiode de la Bétadine"
   ]
  },
  {
   "cell_type": "code",
   "execution_count": 39,
   "metadata": {},
   "outputs": [
    {
     "name": "stdout",
     "output_type": "stream",
     "text": [
      "Concentration massique de povidone iodée : c_m = 93.3 +/-  9.8 g/L\n"
     ]
    }
   ],
   "source": [
    "dilution_factor = 10           #\n",
    "v_betadine      = 10e-3        # L\n",
    "c_thiosulfate   = 5e-3         # mol/L\n",
    "\n",
    "veq             = 15.8e-3      # L #<<<<<<<<<<<<<<<<<<<<<<<<<<<<<<<<<<<<<<<<<<<<<<<<<<<<<< exp value here \n",
    "uveq            = 0.1e-3       # L\n",
    "\n",
    "c_diiode  = dilution_factor * c_thiosulfate * veq / v_betadine / 2\n",
    "uc_diiode = c_diiode * np.sqrt(dilution_factor**2 / 4 * ((0.02)**2 + (uveq/veq)**2 + (0.01e-3/v_betadine)**2))\n",
    "\n",
    "print(\"Concentration massique de povidone iodée : c_m = %4.1f +/- %4.1f g/L\"%(c_diiode*M, uc_diiode*M))"
   ]
  },
  {
   "cell_type": "code",
   "execution_count": null,
   "metadata": {},
   "outputs": [],
   "source": []
  }
 ],
 "metadata": {
  "kernelspec": {
   "display_name": "Python 3",
   "language": "python",
   "name": "python3"
  },
  "language_info": {
   "codemirror_mode": {
    "name": "ipython",
    "version": 3
   },
   "file_extension": ".py",
   "mimetype": "text/x-python",
   "name": "python",
   "nbconvert_exporter": "python",
   "pygments_lexer": "ipython3",
   "version": "3.7.3"
  }
 },
 "nbformat": 4,
 "nbformat_minor": 2
}
