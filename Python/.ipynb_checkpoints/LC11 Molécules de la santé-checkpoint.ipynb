{
 "cells": [
  {
   "cell_type": "markdown",
   "metadata": {},
   "source": [
    "# LC11 Molécules de la santé"
   ]
  },
  {
   "cell_type": "code",
   "execution_count": 1,
   "metadata": {},
   "outputs": [
    {
     "name": "stdout",
     "output_type": "stream",
     "text": [
      "Populating the interactive namespace from numpy and matplotlib\n"
     ]
    }
   ],
   "source": [
    "%pylab qt\n",
    "%matplotlib inline"
   ]
  },
  {
   "cell_type": "markdown",
   "metadata": {},
   "source": [
    "## Dosage du diiode de la Bétadine"
   ]
  },
  {
   "cell_type": "code",
   "execution_count": 24,
   "metadata": {},
   "outputs": [
    {
     "name": "stdout",
     "output_type": "stream",
     "text": [
      "Masse maximale (eta=1) : m_max =  3.6 g\n",
      "Masse obtenue          : m_exp =  2.7 g\n",
      "Rendement              : eta   = 74.2 pourcents\n"
     ]
    }
   ],
   "source": [
    "dilution_factor = 10           #\n",
    "v_betadine      = 10e-3        # L\n",
    "c_thiosulfate   = 5e-3         # mol/L\n",
    "\n",
    "veq             = 15e-3        # L #<<<<<<<<<<<<<<<<<<<<<<<<<<<<<<<<<<<<<<<<<<<<<<<<<<<<<< exp value here \n",
    "uveq            = 0.1e-3       # L\n",
    "\n",
    "c_diiode = dilution_factor * c_thiosulfate * veq\n",
    "\n",
    "print(\"Masse maximale (eta=1) : m_max = %4.1f g\"%(m_max))\n",
    "print(\"Masse obtenue          : m_exp = %4.1f g\"%(m_exp))\n",
    "print(\"Rendement              : eta   = %4.1f pourcents\"%(m_exp*100/m_max))"
   ]
  },
  {
   "cell_type": "code",
   "execution_count": 16,
   "metadata": {},
   "outputs": [
    {
     "name": "stdout",
     "output_type": "stream",
     "text": [
      "Quantité de matière en ion oxalate = 0.62 mmol\n",
      "Coefficient stoechiométrique = 2.8\n"
     ]
    }
   ],
   "source": [
    "Veq = 12.4e-3\n",
    "noxalate = 5/2*0.02*Veq\n",
    "print(\"Quantité de matière en ion oxalate = %.2f mmol\"%(noxalate*1e3))\n",
    "print(\"Coefficient stoechiométrique = %.1f\"%(227*noxalate/(0.105-88*noxalate)))"
   ]
  },
  {
   "cell_type": "code",
   "execution_count": null,
   "metadata": {},
   "outputs": [],
   "source": []
  }
 ],
 "metadata": {
  "kernelspec": {
   "display_name": "Python 3",
   "language": "python",
   "name": "python3"
  },
  "language_info": {
   "codemirror_mode": {
    "name": "ipython",
    "version": 3
   },
   "file_extension": ".py",
   "mimetype": "text/x-python",
   "name": "python",
   "nbconvert_exporter": "python",
   "pygments_lexer": "ipython3",
   "version": "3.7.3"
  }
 },
 "nbformat": 4,
 "nbformat_minor": 2
}
