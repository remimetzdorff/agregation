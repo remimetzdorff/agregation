{
 "cells": [
  {
   "cell_type": "code",
   "execution_count": 2,
   "metadata": {},
   "outputs": [
    {
     "name": "stdout",
     "output_type": "stream",
     "text": [
      "Populating the interactive namespace from numpy and matplotlib\n"
     ]
    }
   ],
   "source": [
    "%pylab qt\n",
    "%matplotlib inline\n",
    "\n",
    "import scipy.constants as cst\n",
    "\n",
    "def mysavefig(name):\n",
    "    plt.tight_layout()\n",
    "    plt.savefig(name, bbox_inches=\"tight\", dpi=200)\n"
   ]
  },
  {
   "cell_type": "code",
   "execution_count": 6,
   "metadata": {},
   "outputs": [
    {
     "name": "stdout",
     "output_type": "stream",
     "text": [
      "0.016021766208\n"
     ]
    }
   ],
   "source": [
    "##### Oil #####\n",
    "d = 5e-10\n",
    "e = 1/40 * cst.e\n",
    "\n",
    "print(e/d**2)"
   ]
  },
  {
   "cell_type": "code",
   "execution_count": 14,
   "metadata": {},
   "outputs": [
    {
     "name": "stdout",
     "output_type": "stream",
     "text": [
      "0.8010883104\n"
     ]
    }
   ],
   "source": [
    "##### Water #####\n",
    "d = 2e-10\n",
    "e = 0.2 * cst.e\n",
    "\n",
    "print(e/d**2)"
   ]
  },
  {
   "cell_type": "code",
   "execution_count": 17,
   "metadata": {},
   "outputs": [
    {
     "name": "stdout",
     "output_type": "stream",
     "text": [
      "1.001360388\n"
     ]
    }
   ],
   "source": [
    "##### Mercury #####\n",
    "d = 4e-10\n",
    "e = 1 * cst.e\n",
    "\n",
    "print(e/d**2)"
   ]
  },
  {
   "cell_type": "code",
   "execution_count": 10,
   "metadata": {},
   "outputs": [
    {
     "data": {
      "text/plain": [
       "0.4145707829884629"
      ]
     },
     "execution_count": 10,
     "metadata": {},
     "output_type": "execute_result"
    }
   ],
   "source": [
    "40e3/cst.Avogadro/cst.e"
   ]
  },
  {
   "cell_type": "code",
   "execution_count": null,
   "metadata": {},
   "outputs": [],
   "source": [
    "cst."
   ]
  }
 ],
 "metadata": {
  "kernelspec": {
   "display_name": "Python 3",
   "language": "python",
   "name": "python3"
  },
  "language_info": {
   "codemirror_mode": {
    "name": "ipython",
    "version": 3
   },
   "file_extension": ".py",
   "mimetype": "text/x-python",
   "name": "python",
   "nbconvert_exporter": "python",
   "pygments_lexer": "ipython3",
   "version": "3.7.3"
  }
 },
 "nbformat": 4,
 "nbformat_minor": 2
}
