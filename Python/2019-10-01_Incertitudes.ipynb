{
 "cells": [
  {
   "cell_type": "markdown",
   "metadata": {},
   "source": [
    "# Estimation des incertitudes\n",
    "On suppose ici uniquement des erreurs indépentantes."
   ]
  },
  {
   "cell_type": "markdown",
   "metadata": {},
   "source": [
    "Le résultat de la mesure d'une grandeur $X$ (mesurande) doit être présenté sous la forme :\n",
    "$$X = (x \\pm \\Delta x)\\ \\mathrm{unité}$$\n",
    "où $x$ est le résultat de la mesure et $\\Delta x$ l'incertitude sur cette mesure. "
   ]
  },
  {
   "cell_type": "markdown",
   "metadata": {},
   "source": [
    "## Incertitude de type A"
   ]
  },
  {
   "cell_type": "markdown",
   "metadata": {},
   "source": [
    "Elle est utilisée quand on dispose d'un échantillon de plusiseurs observations indépendantes $x_i$ d'une grandeur $X$. On définit alors :\n",
    "- la moyenne expérimentale de la série de mesure \n",
    "$$\\overline{x} = \\frac{1}{N}\\sum_{i=1}^Nx_i$$\n",
    "- l'écart type expérimental de la série de mesure\n",
    "$$s(x) = \\sqrt{ \\frac{1}{N-1}\\sum_{i=1}^N (x_i-\\overline{x})^2}$$\n",
    "qui décrit l'écart type de la loi de distribution de $X$.\n",
    "\n",
    "L'incertitude sur la valeur moyenne est alors donnée par\n",
    "$$u(\\overline{x}) = \\frac{s(x)}{\\sqrt{N}}$$\n",
    "Cette incertitude tend vers 0 pour un grand nombre de mesures et devient donc négligeable devant les autres sources d'incertitude de type B."
   ]
  },
  {
   "cell_type": "markdown",
   "metadata": {},
   "source": [
    "## Incertitude de type B"
   ]
  },
  {
   "cell_type": "markdown",
   "metadata": {},
   "source": [
    "### Incertitude de lecture sur un affichage digital ou sur une grandeur numérisée\n",
    "\n",
    "La quantification du signal impose un pas minimal de taille $\\Delta_\\mathrm{num}$. L'incertitude sur la valeur lue peut alors être estimée par \n",
    "$$u(x) = \\frac{\\Delta_\\mathrm{num}}{\\sqrt{3}}$$\n",
    "\n",
    "L'incertitude sur une valeur donnée par un instrument de mesure est habituellement donnée dans la notice constructeur de l'appareil sous la forme \n",
    "$$\\Delta_\\mathrm{cons} = p\\ \\% + m\\ \\mathrm{digits}$$\n",
    "où $p$ est la valeur lue et digits fait référence aux \"least significant digits\".\n",
    "Dans le cas où cette valeur est définie avec un facteur d'élargissement $k$, l'incertitude sur la mesure est donnée par \n",
    "$$u(x) = \\frac{\\Delta_\\mathrm{cons}}{k}$$"
   ]
  },
  {
   "cell_type": "markdown",
   "metadata": {},
   "source": [
    "### Incertitude de mesure sur des graduations\n",
    "\n",
    "On peut distinguer deux cas en fonction de la graduation $\\Delta_\\mathrm{grad}$ :\n",
    "- distribution uniforme de largeur $\\Delta_\\mathrm{grad}$ (choix le plus naturel)\n",
    "$$u(x) = \\frac{\\Delta_\\mathrm{grad}}{2\\sqrt{3}}$$\n",
    "- distribution triangulaire de largeur $\\Delta_\\mathrm{grad}$ où l'on accorde plus de confiance à la valeur centrale :\n",
    "$$u(x) = \\frac{\\Delta_\\mathrm{grad}}{2\\sqrt{6}}$$"
   ]
  },
  {
   "cell_type": "markdown",
   "metadata": {},
   "source": [
    "## Composition des incertitudes"
   ]
  },
  {
   "cell_type": "markdown",
   "metadata": {},
   "source": [
    "L'incertitude totale sur la mesure résulte de la contribution de toutes les sources d'incertitudes, ce qui donne\n",
    "$$u(x)=\\sqrt{ \\sum_{i=1}^M u_i^2(x) }$$"
   ]
  },
  {
   "cell_type": "markdown",
   "metadata": {},
   "source": [
    "Dans le cas où la grandeur $Y$ résulte d'un calcul impliquant plusieurs mesures expérimentale $x_i$ tel que $y=f(x_i)$, on utilise la formule de propagation des incertitudes\n",
    "$$u(y) = \\sqrt{ \\sum _i \\left( \\frac{\\partial f}{\\partial x_i} \\right)^2 u^2(x_i) } $$"
   ]
  },
  {
   "cell_type": "markdown",
   "metadata": {},
   "source": [
    "On peut avoir une bonne estimation de $u(y)$ en utilisant la propagation des erreur sous a forme\n",
    "$$u(y) = \\sqrt{ \\sum _i \\left( \\frac{u(x_i)}{x_i} \\right)^2 } $$"
   ]
  },
  {
   "cell_type": "markdown",
   "metadata": {},
   "source": [
    "## Pour un ajustement"
   ]
  },
  {
   "cell_type": "markdown",
   "metadata": {},
   "source": [
    "Dans le cas d'un ajustement de $N$ données expérimentales $(x_i, y_i)$ par une fonction $y=f(x)$ possédant $P$ paramètres libres, on peut quantifier la qualité de l'ajustement en évaluant le paramètre $\\chi^2_r$ dfinit par\n",
    "$$ \\chi^2_r = \\frac{\\chi^2}{N-P}$$\n",
    "où \n",
    "$$ \\chi^2 = \\sum_{i=1}^N \\left( \\frac{y_i-f(x_i)}{u(y_i)} \\right)^2 $$\n",
    "\n",
    "- $\\chi^2_r \\ll 1$ : incertitudes sur-estimées;\n",
    "- $\\chi^2_r \\approx 1$ : bon ajustement;\n",
    "- $\\chi^2_r \\gg 1$ : incertitudes sous-estimées ou mauvais modèle.\n",
    "\n",
    "Dans le cas où il y a aussi une incertitude sur les $x_i$, on peut utiliser \n",
    "$$ \\chi^2 = \\sum_{i=1}^N \\left( \\frac{y_i-f(x_i)}{u(y_i)+f'(x_i)\\times u(x_i)} \\right)^2 $$"
   ]
  },
  {
   "cell_type": "code",
   "execution_count": null,
   "metadata": {},
   "outputs": [],
   "source": []
  }
 ],
 "metadata": {
  "kernelspec": {
   "display_name": "Python 3",
   "language": "python",
   "name": "python3"
  },
  "language_info": {
   "codemirror_mode": {
    "name": "ipython",
    "version": 3
   },
   "file_extension": ".py",
   "mimetype": "text/x-python",
   "name": "python",
   "nbconvert_exporter": "python",
   "pygments_lexer": "ipython3",
   "version": "3.7.3"
  }
 },
 "nbformat": 4,
 "nbformat_minor": 2
}
