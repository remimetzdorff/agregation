{
 "cells": [
  {
   "cell_type": "markdown",
   "metadata": {},
   "source": [
    "# LC04 Synthèses inorganiques "
   ]
  },
  {
   "cell_type": "code",
   "execution_count": 1,
   "metadata": {},
   "outputs": [
    {
     "name": "stdout",
     "output_type": "stream",
     "text": [
      "Populating the interactive namespace from numpy and matplotlib\n"
     ]
    }
   ],
   "source": [
    "%pylab qt\n",
    "%matplotlib inline\n",
    "\n",
    "import fitting"
   ]
  },
  {
   "cell_type": "code",
   "execution_count": 44,
   "metadata": {},
   "outputs": [
    {
     "name": "stdout",
     "output_type": "stream",
     "text": [
      "##### Fit results #####\n",
      "RAW\n",
      "        optimised params : [ 5.05525033e+01 -1.44600537e-03]\n",
      "        uncertainties    : [1.92707003e+00 1.07075956e-03]\n",
      "        chi2r            : 1.8683016466745763\n",
      "        r2               : 0.9804725164111241\n",
      "READABLE\n",
      "        slope      = (5.1 +/- 0.2) * 1e1\n",
      "        y0         = (-1 +/- 1) * 1e-3\n",
      "#######################\n",
      "Concentration molaire  : 0.42 +/- 0.02 g/L\n",
      "Concentration massique : 0.98 +/- 0.04 mmol/L\n"
     ]
    },
    {
     "data": {
      "text/plain": [
       "[<matplotlib.lines.Line2D at 0xa6db358>]"
      ]
     },
     "execution_count": 44,
     "metadata": {},
     "output_type": "execute_result"
    },
    {
     "data": {
      "image/png": "[encoded data removed]",
      "text/plain": [
       "<Figure size 288x216 with 1 Axes>"
      ]
     },
     "metadata": {
      "needs_background": "light"
     },
     "output_type": "display_data"
    }
   ],
   "source": [
    "x  = (np.arange(9)+1)*1e-4 # Concentration en mol/L\n",
    "ux = np.ones(len(x))*3e-5\n",
    "y  = np.array([0.057, 0.098, 0.134, 0.156, 0.207, 0.292, 0.360, 0.395, 0.447])*1e-1\n",
    "uy = y*0.01\n",
    "\n",
    "fitter = fitting.Fit(\"linear\", x=x, y=y, uy=uy, ux=ux)\n",
    "fit_params, ufit_params = fitter.fit(manualguess_params=None, verbosemode=True)\n",
    "yfit = fitter.func(x, *fit_params)\n",
    "\n",
    "plt.figure(figsize=(4,3))\n",
    "plt.errorbar(x*1e3, y, xerr=ux*1e3, yerr=uy, fmt=\"o\")\n",
    "plt.plot(x*1e3, yfit)\n",
    "plt.xlabel(\"Concentration (mmol/L)\")\n",
    "plt.ylabel(\"Absorbance (u.a.)\")\n",
    "\n",
    "slope, b  = fit_params\n",
    "uslope, _ = ufit_params \n",
    "a_I2      = 0.021\n",
    "u_aI2     = 0.0001\n",
    "\n",
    "C  = a_I2 / slope\n",
    "uC = np.sqrt((u_aI2/a_I2)**2 + (uslope/slope)**2) * C\n",
    "M = 2363\n",
    "\n",
    "print(\"Concentration molaire  : %.2f +/- %.2f g/L\"%(C*1e3, uC*1e3))\n",
    "print(\"Concentration massique : %.2f +/- %.2f mmol/L\"%(C*M, uC*M))\n",
    "\n",
    "plt.plot([(a_I2-b) / slope*1e3], [a_I2], \"oC2\")"
   ]
  }
 ],
 "metadata": {
  "kernelspec": {
   "display_name": "Python 3",
   "language": "python",
   "name": "python3"
  },
  "language_info": {
   "codemirror_mode": {
    "name": "ipython",
    "version": 3
   },
   "file_extension": ".py",
   "mimetype": "text/x-python",
   "name": "python",
   "nbconvert_exporter": "python",
   "pygments_lexer": "ipython3",
   "version": "3.7.3"
  }
 },
 "nbformat": 4,
 "nbformat_minor": 2
}
