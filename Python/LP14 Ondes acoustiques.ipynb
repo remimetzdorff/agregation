{
 "cells": [
  {
   "cell_type": "markdown",
   "metadata": {
    "slideshow": {
     "slide_type": "slide"
    }
   },
   "source": [
    "# LP14 Ondes acoustiques"
   ]
  },
  {
   "cell_type": "code",
   "execution_count": 38,
   "metadata": {
    "slideshow": {
     "slide_type": "skip"
    }
   },
   "outputs": [
    {
     "name": "stdout",
     "output_type": "stream",
     "text": [
      "Populating the interactive namespace from numpy and matplotlib\n"
     ]
    }
   ],
   "source": [
    "%pylab qt\n",
    "%matplotlib inline\n",
    "\n",
    "import pandas\n",
    "import fitting\n",
    "\n",
    "def celerite(temp):\n",
    "    return sqrt(1.4*8.314*temp/28.8e-3)\n",
    "\n",
    "T0 = 273.16"
   ]
  },
  {
   "cell_type": "markdown",
   "metadata": {
    "slideshow": {
     "slide_type": "slide"
    }
   },
   "source": [
    "## Vitesse du son dans l'air\n",
    "\n",
    "$M = 28,8\\ g/mol$, $\\gamma = 1,4$"
   ]
  },
  {
   "cell_type": "code",
   "execution_count": 43,
   "metadata": {},
   "outputs": [
    {
     "name": "stdout",
     "output_type": "stream",
     "text": [
      "Vitesse THEORIQUE du son dans l'air     = 347.1 +/- 0.6 m/s\n",
      "Vitesse EXPERIMENTALE du son dans l'air =   348 +/-   4 m/s\n"
     ]
    },
    {
     "data": {
      "text/plain": [
       "Text(0, 0.5, 'c (m/s)')"
      ]
     },
     "execution_count": 43,
     "metadata": {},
     "output_type": "execute_result"
    },
    {
     "data": {
      "image/png": "[encoded data removed]",
      "text/plain": [
       "<Figure size 432x288 with 1 Axes>"
      ]
     },
     "metadata": {
      "needs_background": "light"
     },
     "output_type": "display_data"
    }
   ],
   "source": [
    "temp = np.linspace(250, 310, 1001)\n",
    "\n",
    "plt.plot(temp-T0, celerite(temp))\n",
    "\n",
    "T_amb   = T0 + 25\n",
    "uT_amb  = 1\n",
    "\n",
    "freq        = 40e3\n",
    "wavelength  = 8.7e-3\n",
    "uwavelength = 0.1e-3\n",
    "\n",
    "c_theo  = celerite(T_amb)\n",
    "uc_theo = c_theo*uT_amb/T_amb/2\n",
    "c_exp   = wavelength*freq\n",
    "uc_exp  = c_exp*uwavelength/wavelength\n",
    "\n",
    "plt.errorbar([T_amb-T0], [c_exp], xerr=[uT_0], yerr=[uc_exp], fmt=\"o\")\n",
    "\n",
    "print(\"Vitesse THEORIQUE du son dans l'air     = %5.1f +/- %3.1f m/s\"%(c_theo, uc_theo))\n",
    "print(\"Vitesse EXPERIMENTALE du son dans l'air = %5.0f +/- %3.0f m/s\"%(c_exp, uc_exp))\n",
    "\n",
    "plt.xlabel(\"Température (°C)\")\n",
    "plt.ylabel(\"c (m/s)\")"
   ]
  },
  {
   "cell_type": "code",
   "execution_count": null,
   "metadata": {},
   "outputs": [],
   "source": []
  }
 ],
 "metadata": {
  "celltoolbar": "Aucun(e)",
  "kernelspec": {
   "display_name": "Python 3",
   "language": "python",
   "name": "python3"
  },
  "language_info": {
   "codemirror_mode": {
    "name": "ipython",
    "version": 3
   },
   "file_extension": ".py",
   "mimetype": "text/x-python",
   "name": "python",
   "nbconvert_exporter": "python",
   "pygments_lexer": "ipython3",
   "version": "3.7.3"
  }
 },
 "nbformat": 4,
 "nbformat_minor": 2
}
